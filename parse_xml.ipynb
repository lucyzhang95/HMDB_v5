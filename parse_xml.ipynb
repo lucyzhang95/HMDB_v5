{
 "cells": [
  {
   "cell_type": "code",
   "id": "initial_id",
   "metadata": {
    "collapsed": true,
    "ExecuteTime": {
     "end_time": "2025-05-17T05:38:37.476600Z",
     "start_time": "2025-05-17T05:38:37.178997Z"
    }
   },
   "source": [
    "from lxml import etree as ET\n",
    "import zipfile\n",
    "import os\n",
    "import random\n",
    "from collections import defaultdict\n",
    "import pandas as pd"
   ],
   "outputs": [],
   "execution_count": 1
  },
  {
   "metadata": {},
   "cell_type": "markdown",
   "source": "## Extract xml examples (with or without Microbes)",
   "id": "bdd8905f9d87b922"
  },
  {
   "metadata": {
    "ExecuteTime": {
     "end_time": "2025-05-17T05:38:37.553274Z",
     "start_time": "2025-05-17T05:38:37.551761Z"
    }
   },
   "cell_type": "code",
   "source": [
    "file_path = os.path.join(os.getcwd(), \"downloads\", \"hmdb_metabolites.zip\")\n",
    "file_name = \"hmdb_metabolites.xml\""
   ],
   "id": "92f3a02443f92fac",
   "outputs": [],
   "execution_count": 2
  },
  {
   "metadata": {
    "ExecuteTime": {
     "end_time": "2025-05-17T05:38:37.563753Z",
     "start_time": "2025-05-17T05:38:37.562079Z"
    }
   },
   "cell_type": "code",
   "source": [
    "decomp_xml = os.path.join(\"temp_dir\", \"hmdb_metabolites.xml\")\n",
    "if not decomp_xml:\n",
    "    with zipfile.ZipFile(file_path, \"r\") as zip_f:\n",
    "        zip_f.extract(file_name, path=\"temp_dir\")"
   ],
   "id": "b912e4f7a856aa33",
   "outputs": [],
   "execution_count": 3
  },
  {
   "metadata": {
    "ExecuteTime": {
     "end_time": "2025-05-17T05:38:37.573337Z",
     "start_time": "2025-05-17T05:38:37.571251Z"
    }
   },
   "cell_type": "code",
   "source": [
    "def extract_record_by_accession(xml_path, target_accession, output_path):\n",
    "    ns = {'hmdb': 'http://www.hmdb.ca'}\n",
    "    context = ET.iterparse(xml_path, events=(\"end\",), tag=\"{http://www.hmdb.ca}metabolite\")\n",
    "\n",
    "    for event, elem in context:\n",
    "        accession = elem.findtext(\"hmdb:accession\", namespaces=ns)\n",
    "        if accession == target_accession:\n",
    "            with open(output_path, \"wb\") as out:\n",
    "                out.write(ET.tostring(elem, pretty_print=True, xml_declaration=True, encoding=\"UTF-8\"))\n",
    "            print(f\"Saved: {output_path}\")\n",
    "            break\n",
    "\n",
    "        elem.clear()\n",
    "        while elem.getprevious() is not None:\n",
    "            del elem.getparent()[0]"
   ],
   "id": "26a9f1c6ce2751e6",
   "outputs": [],
   "execution_count": 4
  },
  {
   "metadata": {
    "ExecuteTime": {
     "end_time": "2025-05-17T05:38:37.586203Z",
     "start_time": "2025-05-17T05:38:37.577641Z"
    }
   },
   "cell_type": "code",
   "source": [
    "example_dir = os.path.join(os.getcwd(), \"examples\")\n",
    "os.makedirs(example_dir, exist_ok=True)\n",
    "\n",
    "xml_path = os.path.join(\"temp_dir\", \"hmdb_metabolites.xml\")\n",
    "target_accession = \"HMDB0000011\"\n",
    "output_path = os.path.join(example_dir, \"HMDB0000011.xml\")\n",
    "extract_record_by_accession(xml_path, target_accession, output_path)"
   ],
   "id": "459ef67665815f20",
   "outputs": [
    {
     "name": "stdout",
     "output_type": "stream",
     "text": [
      "Saved: /Users/bailinzhang/Documents/Wu_Lab/Projects/HMDB_v5/examples/HMDB0000011.xml\n"
     ]
    }
   ],
   "execution_count": 5
  },
  {
   "metadata": {
    "ExecuteTime": {
     "end_time": "2025-05-17T05:38:38.605133Z",
     "start_time": "2025-05-17T05:38:37.593295Z"
    }
   },
   "cell_type": "code",
   "source": [
    "target_accession = \"HMDB0004327\"\n",
    "output_path = os.path.join(example_dir, \"HMDB0004327.xml\")\n",
    "extract_record_by_accession(xml_path, target_accession, output_path)"
   ],
   "id": "73891906eb3f675c",
   "outputs": [
    {
     "name": "stdout",
     "output_type": "stream",
     "text": [
      "Saved: /Users/bailinzhang/Documents/Wu_Lab/Projects/HMDB_v5/examples/HMDB0004327.xml\n"
     ]
    }
   ],
   "execution_count": 6
  },
  {
   "metadata": {
    "ExecuteTime": {
     "end_time": "2025-05-17T05:38:38.615133Z",
     "start_time": "2025-05-17T05:38:38.611844Z"
    }
   },
   "cell_type": "code",
   "source": [
    "def extract_random_metabolites(xml_path, output_path=\"examples/HMDB_metabolites_examples_10.xml\", n=10):\n",
    "    \"\"\"Extracts n random <metabolite> records from a large HMDB XML file and writes them\n",
    "    to an output file with proper XML structure and namespace.\n",
    "    \"\"\"\n",
    "    print(\"Counting total <metabolite> entries...\")\n",
    "    total = 0\n",
    "    for _, _ in ET.iterparse(xml_path, events=(\"end\",), tag=\"{http://www.hmdb.ca}metabolite\"):\n",
    "        total += 1\n",
    "    print(f\"Total metabolites found: {total}\")\n",
    "\n",
    "    selected_indices = set(random.sample(range(total), n))\n",
    "    print(f\"Randomly selected indices: {sorted(selected_indices)}\")\n",
    "\n",
    "    output_elems = []\n",
    "    context = ET.iterparse(xml_path, events=(\"end\",), tag=\"{http://www.hmdb.ca}metabolite\")\n",
    "    current_index = 0\n",
    "    for event, elem in context:\n",
    "        if current_index in selected_indices:\n",
    "            xml_str = ET.tostring(elem, pretty_print=True, encoding=\"unicode\")\n",
    "            output_elems.append(xml_str)\n",
    "        current_index += 1\n",
    "        elem.clear()\n",
    "    print(f\"Writing to output file: {output_path}\")\n",
    "\n",
    "    with open(output_path, \"w\", encoding=\"utf-8\") as f:\n",
    "        f.write('<?xml version=\"1.0\" encoding=\"UTF-8\"?>\\n')\n",
    "        f.write('<hmdb xmlns=\"http://www.hmdb.ca\">\\n')\n",
    "        for entry in output_elems:\n",
    "            f.write(entry)\n",
    "        f.write('</hmdb>\\n')\n",
    "\n",
    "    print(f\"Done! Extracted {n} records to '{output_path}'\")"
   ],
   "id": "1294d754edb5bb07",
   "outputs": [],
   "execution_count": 7
  },
  {
   "metadata": {
    "ExecuteTime": {
     "end_time": "2025-05-17T05:40:53.524461Z",
     "start_time": "2025-05-17T05:38:38.623107Z"
    }
   },
   "cell_type": "code",
   "source": "extract_random_metabolites(xml_path, n=10)",
   "id": "7f6a301e8f9b1c28",
   "outputs": [
    {
     "name": "stdout",
     "output_type": "stream",
     "text": [
      "Counting total <metabolite> entries...\n",
      "Total metabolites found: 217920\n",
      "Randomly selected indices: [1919, 24414, 40054, 90417, 103310, 106104, 106794, 116454, 162113, 203456]\n",
      "Writing to output file: examples/HMDB_metabolites_examples_10.xml\n",
      "Done! Extracted 10 records to 'examples/HMDB_metabolites_examples_10.xml'\n"
     ]
    }
   ],
   "execution_count": 8
  },
  {
   "metadata": {},
   "cell_type": "markdown",
   "source": "## Explore root tag and children",
   "id": "f9e6c7b94ff825b5"
  },
  {
   "metadata": {
    "ExecuteTime": {
     "end_time": "2025-05-17T05:40:53.588682Z",
     "start_time": "2025-05-17T05:40:53.583546Z"
    }
   },
   "cell_type": "code",
   "source": [
    "def get_metabolite_tags(xml_path):\n",
    "    tree = ET.parse(xml_path)\n",
    "    root = tree.getroot()\n",
    "\n",
    "    all_tags = set()\n",
    "    for metabolite in root.findall(\"{http://www.hmdb.ca}metabolite\"):\n",
    "        for child in metabolite:\n",
    "            tag = child.tag.split(\"}\")[-1]\n",
    "            all_tags.add(tag)\n",
    "    return all_tags"
   ],
   "id": "6ac3482a4ba8efe7",
   "outputs": [],
   "execution_count": 9
  },
  {
   "metadata": {
    "ExecuteTime": {
     "end_time": "2025-05-17T05:40:53.687691Z",
     "start_time": "2025-05-17T05:40:53.630629Z"
    }
   },
   "cell_type": "code",
   "source": [
    "exp_path = os.path.join(\"examples\", \"HMDB_metabolites_examples_10.xml\")\n",
    "first_child_tags = get_metabolite_tags(exp_path)\n",
    "first_child_tags"
   ],
   "id": "53f802da8da4cb9c",
   "outputs": [
    {
     "data": {
      "text/plain": [
       "{'abnormal_concentrations',\n",
       " 'accession',\n",
       " 'average_molecular_weight',\n",
       " 'bigg_id',\n",
       " 'biocyc_id',\n",
       " 'biological_properties',\n",
       " 'cas_registry_number',\n",
       " 'chebi_id',\n",
       " 'chemical_formula',\n",
       " 'chemspider_id',\n",
       " 'creation_date',\n",
       " 'description',\n",
       " 'diseases',\n",
       " 'drugbank_id',\n",
       " 'experimental_properties',\n",
       " 'fbonto_id',\n",
       " 'foodb_id',\n",
       " 'general_references',\n",
       " 'inchi',\n",
       " 'inchikey',\n",
       " 'iupac_name',\n",
       " 'kegg_id',\n",
       " 'knapsack_id',\n",
       " 'metlin_id',\n",
       " 'monisotopic_molecular_weight',\n",
       " 'name',\n",
       " 'normal_concentrations',\n",
       " 'ontology',\n",
       " 'pdb_id',\n",
       " 'phenol_explorer_compound_id',\n",
       " 'predicted_properties',\n",
       " 'protein_associations',\n",
       " 'pubchem_compound_id',\n",
       " 'secondary_accessions',\n",
       " 'smiles',\n",
       " 'spectra',\n",
       " 'state',\n",
       " 'status',\n",
       " 'synonyms',\n",
       " 'synthesis_reference',\n",
       " 'taxonomy',\n",
       " 'traditional_iupac',\n",
       " 'update_date',\n",
       " 'version',\n",
       " 'vmh_id',\n",
       " 'wikipedia_id'}"
      ]
     },
     "execution_count": 10,
     "metadata": {},
     "output_type": "execute_result"
    }
   ],
   "execution_count": 10
  },
  {
   "metadata": {
    "ExecuteTime": {
     "end_time": "2025-05-17T05:40:53.703143Z",
     "start_time": "2025-05-17T05:40:53.701730Z"
    }
   },
   "cell_type": "code",
   "source": "",
   "id": "6111a8612aa70e51",
   "outputs": [],
   "execution_count": null
  }
 ],
 "metadata": {
  "kernelspec": {
   "display_name": "Python 3",
   "language": "python",
   "name": "python3"
  },
  "language_info": {
   "codemirror_mode": {
    "name": "ipython",
    "version": 2
   },
   "file_extension": ".py",
   "mimetype": "text/x-python",
   "name": "python",
   "nbconvert_exporter": "python",
   "pygments_lexer": "ipython2",
   "version": "2.7.6"
  }
 },
 "nbformat": 4,
 "nbformat_minor": 5
}
