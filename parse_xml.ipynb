{
 "cells": [
  {
   "cell_type": "code",
   "id": "initial_id",
   "metadata": {
    "collapsed": true,
    "ExecuteTime": {
     "end_time": "2025-07-01T23:25:00.824590Z",
     "start_time": "2025-07-01T23:25:00.403021Z"
    }
   },
   "source": [
    "from lxml import etree as ET\n",
    "import zipfile\n",
    "import os\n",
    "import random\n",
    "from collections import defaultdict\n",
    "import pandas as pd"
   ],
   "outputs": [],
   "execution_count": 1
  },
  {
   "metadata": {},
   "cell_type": "markdown",
   "source": "## Extract xml examples (with or without Microbes)",
   "id": "bdd8905f9d87b922"
  },
  {
   "metadata": {
    "ExecuteTime": {
     "end_time": "2025-07-01T23:25:02.088922Z",
     "start_time": "2025-07-01T23:25:02.083839Z"
    }
   },
   "cell_type": "code",
   "source": [
    "file_path = os.path.join(os.getcwd(), \"downloads\", \"hmdb_metabolites.zip\")\n",
    "file_name = \"hmdb_metabolites.xml\""
   ],
   "id": "92f3a02443f92fac",
   "outputs": [],
   "execution_count": 2
  },
  {
   "metadata": {
    "ExecuteTime": {
     "end_time": "2025-05-21T23:25:20.690316Z",
     "start_time": "2025-05-21T23:25:20.688048Z"
    }
   },
   "cell_type": "code",
   "source": [
    "decomp_xml = os.path.join(\"downloads\", \"hmdb_metabolites.xml\")\n",
    "if not os.path.exists(decomp_xml):\n",
    "    with zipfile.ZipFile(file_path, \"r\") as zip_f:\n",
    "        zip_f.extract(file_name, path=\"downloads\")"
   ],
   "id": "b912e4f7a856aa33",
   "outputs": [],
   "execution_count": 3
  },
  {
   "metadata": {
    "ExecuteTime": {
     "end_time": "2025-07-01T23:25:06.699566Z",
     "start_time": "2025-07-01T23:25:06.694960Z"
    }
   },
   "cell_type": "code",
   "source": [
    "def extract_record_by_accession(xml_path, target_accession, output_path, tag=\"{http://www.hmdb.ca}metabolite\"):\n",
    "    ns = {'hmdb': 'http://www.hmdb.ca'}\n",
    "    context = ET.iterparse(xml_path, events=(\"end\",), tag=tag)\n",
    "\n",
    "    for event, elem in context:\n",
    "        accession = elem.findtext(\"hmdb:accession\", namespaces=ns)\n",
    "        if accession == target_accession:\n",
    "            with open(output_path, \"wb\") as out:\n",
    "                out.write(\n",
    "                    ET.tostring(elem,\n",
    "                                pretty_print=True,\n",
    "                                xml_declaration=True,\n",
    "                                encoding=\"UTF-8\")\n",
    "                )\n",
    "            print(f\"Saved: {output_path}\")\n",
    "            break\n",
    "\n",
    "        elem.clear()\n",
    "        while elem.getprevious() is not None:\n",
    "            del elem.getparent()[0]"
   ],
   "id": "26a9f1c6ce2751e6",
   "outputs": [],
   "execution_count": 3
  },
  {
   "metadata": {
    "ExecuteTime": {
     "end_time": "2025-07-01T23:25:43.002094Z",
     "start_time": "2025-07-01T23:25:42.993911Z"
    }
   },
   "cell_type": "code",
   "source": [
    "example_dir = os.path.join(os.getcwd(), \"examples\")\n",
    "os.makedirs(example_dir, exist_ok=True)\n",
    "\n",
    "xml_path = os.path.join(\"downloads\", \"hmdb_metabolites.xml\")"
   ],
   "id": "459ef67665815f20",
   "outputs": [],
   "execution_count": 4
  },
  {
   "metadata": {},
   "cell_type": "code",
   "outputs": [],
   "execution_count": null,
   "source": [
    "target_accession = \"HMDB0000011\"\n",
    "output_path = os.path.join(example_dir, \"HMDB0000011.xml\")\n",
    "extract_record_by_accession(xml_path, target_accession, output_path)"
   ],
   "id": "62ddaffdb5992707"
  },
  {
   "metadata": {
    "ExecuteTime": {
     "end_time": "2025-05-21T23:29:25.438975Z",
     "start_time": "2025-05-21T23:29:23.974951Z"
    }
   },
   "cell_type": "code",
   "source": [
    "target_accession = \"HMDB0004327\"\n",
    "output_path = os.path.join(example_dir, \"HMDB0004327.xml\")\n",
    "extract_record_by_accession(xml_path, target_accession, output_path)"
   ],
   "id": "73891906eb3f675c",
   "outputs": [
    {
     "name": "stdout",
     "output_type": "stream",
     "text": [
      "Saved: /Users/bailinzhang/Documents/Wu_Lab/Projects/HMDB_v5/examples/HMDB0004327.xml\n"
     ]
    }
   ],
   "execution_count": 7
  },
  {
   "metadata": {
    "ExecuteTime": {
     "end_time": "2025-07-01T23:26:06.256187Z",
     "start_time": "2025-07-01T23:26:05.864708Z"
    }
   },
   "cell_type": "code",
   "source": [
    "target_accession = \"HMDB0000328\"\n",
    "output_path = os.path.join(example_dir, \"HMDB0000328.xml\")\n",
    "extract_record_by_accession(xml_path, target_accession, output_path)"
   ],
   "id": "ac0bdfab546ab847",
   "outputs": [
    {
     "name": "stdout",
     "output_type": "stream",
     "text": [
      "Saved: /Users/bailinzhang/Documents/Wu_Lab/Projects/HMDB_v5/examples/HMDB0000328.xml\n"
     ]
    }
   ],
   "execution_count": 5
  },
  {
   "metadata": {
    "ExecuteTime": {
     "end_time": "2025-07-01T23:26:22.761255Z",
     "start_time": "2025-07-01T23:26:22.372745Z"
    }
   },
   "cell_type": "code",
   "source": [
    "target_accession = \"HMDB0000330\"\n",
    "output_path = os.path.join(example_dir, \"HMDB0000330.xml\")\n",
    "extract_record_by_accession(xml_path, target_accession, output_path)"
   ],
   "id": "135111dd370e839",
   "outputs": [
    {
     "name": "stdout",
     "output_type": "stream",
     "text": [
      "Saved: /Users/bailinzhang/Documents/Wu_Lab/Projects/HMDB_v5/examples/HMDB0000330.xml\n"
     ]
    }
   ],
   "execution_count": 6
  },
  {
   "metadata": {
    "ExecuteTime": {
     "end_time": "2025-05-21T23:30:03.163753Z",
     "start_time": "2025-05-21T23:30:03.157418Z"
    }
   },
   "cell_type": "code",
   "source": [
    "def extract_random_metabolites(xml_path, output_path=\"examples/HMDB_metabolites_examples_10.xml\", n=10):\n",
    "    \"\"\"Extracts n random <metabolite> records from a large HMDB XML file and writes them\n",
    "    to an output file with proper XML structure and namespace.\n",
    "    \"\"\"\n",
    "    print(\"Counting total <metabolite> entries...\")\n",
    "    total = 0\n",
    "    for _, _ in ET.iterparse(xml_path, events=(\"end\",), tag=\"{http://www.hmdb.ca}metabolite\"):\n",
    "        total += 1\n",
    "    print(f\"Total metabolites found: {total}\")\n",
    "\n",
    "    selected_indices = set(random.sample(range(total), n))\n",
    "    print(f\"Randomly selected indices: {sorted(selected_indices)}\")\n",
    "\n",
    "    output_elems = []\n",
    "    context = ET.iterparse(xml_path, events=(\"end\",), tag=\"{http://www.hmdb.ca}metabolite\")\n",
    "    current_index = 0\n",
    "    for event, elem in context:\n",
    "        if current_index in selected_indices:\n",
    "            xml_str = ET.tostring(elem, pretty_print=True, encoding=\"unicode\")\n",
    "            output_elems.append(xml_str)\n",
    "        current_index += 1\n",
    "        elem.clear()\n",
    "    print(f\"Writing to output file: {output_path}\")\n",
    "\n",
    "    with open(output_path, \"w\", encoding=\"utf-8\") as f:\n",
    "        f.write('<?xml version=\"1.0\" encoding=\"UTF-8\"?>\\n')\n",
    "        f.write('<hmdb xmlns=\"http://www.hmdb.ca\">\\n')\n",
    "        for entry in output_elems:\n",
    "            f.write(entry)\n",
    "        f.write('</hmdb>\\n')\n",
    "\n",
    "    print(f\"Done! Extracted {n} records to '{output_path}'\")"
   ],
   "id": "1294d754edb5bb07",
   "outputs": [],
   "execution_count": 8
  },
  {
   "metadata": {
    "ExecuteTime": {
     "end_time": "2025-05-21T23:33:50.083002Z",
     "start_time": "2025-05-21T23:30:04.292897Z"
    }
   },
   "cell_type": "code",
   "source": "# extract_random_metabolites(xml_path, n=10)",
   "id": "7f6a301e8f9b1c28",
   "outputs": [
    {
     "name": "stdout",
     "output_type": "stream",
     "text": [
      "Counting total <metabolite> entries...\n",
      "Total metabolites found: 217920\n",
      "Randomly selected indices: [41240, 91090, 103714, 105509, 108429, 142392, 172312, 193310, 209608, 216669]\n",
      "Writing to output file: examples/HMDB_metabolites_examples_10.xml\n",
      "Done! Extracted 10 records to 'examples/HMDB_metabolites_examples_10.xml'\n"
     ]
    }
   ],
   "execution_count": 9
  },
  {
   "metadata": {},
   "cell_type": "markdown",
   "source": "## Explore root tag and children",
   "id": "f9e6c7b94ff825b5"
  },
  {
   "metadata": {
    "ExecuteTime": {
     "end_time": "2025-05-21T23:34:29.745838Z",
     "start_time": "2025-05-21T23:34:29.739077Z"
    }
   },
   "cell_type": "code",
   "source": [
    "def get_metabolite_tags(xml_path):\n",
    "    tree = ET.parse(xml_path)\n",
    "    root = tree.getroot()\n",
    "\n",
    "    all_tags = set()\n",
    "    for metabolite in root.findall(\"{http://www.hmdb.ca}metabolite\"):\n",
    "        for child in metabolite:\n",
    "            tag = child.tag.split(\"}\")[-1]\n",
    "            all_tags.add(tag)\n",
    "    return all_tags"
   ],
   "id": "6ac3482a4ba8efe7",
   "outputs": [],
   "execution_count": 10
  },
  {
   "metadata": {
    "ExecuteTime": {
     "end_time": "2025-05-21T23:34:30.374610Z",
     "start_time": "2025-05-21T23:34:30.353930Z"
    }
   },
   "cell_type": "code",
   "source": [
    "exp_path = os.path.join(\"examples\", \"HMDB_metabolites_examples_10.xml\")\n",
    "first_child_tags = get_metabolite_tags(exp_path)\n",
    "first_child_tags"
   ],
   "id": "53f802da8da4cb9c",
   "outputs": [
    {
     "data": {
      "text/plain": [
       "{'abnormal_concentrations',\n",
       " 'accession',\n",
       " 'average_molecular_weight',\n",
       " 'bigg_id',\n",
       " 'biocyc_id',\n",
       " 'biological_properties',\n",
       " 'cas_registry_number',\n",
       " 'chebi_id',\n",
       " 'chemical_formula',\n",
       " 'chemspider_id',\n",
       " 'creation_date',\n",
       " 'description',\n",
       " 'diseases',\n",
       " 'drugbank_id',\n",
       " 'experimental_properties',\n",
       " 'fbonto_id',\n",
       " 'foodb_id',\n",
       " 'general_references',\n",
       " 'inchi',\n",
       " 'inchikey',\n",
       " 'iupac_name',\n",
       " 'kegg_id',\n",
       " 'knapsack_id',\n",
       " 'metlin_id',\n",
       " 'monisotopic_molecular_weight',\n",
       " 'name',\n",
       " 'normal_concentrations',\n",
       " 'ontology',\n",
       " 'pdb_id',\n",
       " 'phenol_explorer_compound_id',\n",
       " 'predicted_properties',\n",
       " 'protein_associations',\n",
       " 'pubchem_compound_id',\n",
       " 'secondary_accessions',\n",
       " 'smiles',\n",
       " 'spectra',\n",
       " 'state',\n",
       " 'status',\n",
       " 'synonyms',\n",
       " 'synthesis_reference',\n",
       " 'taxonomy',\n",
       " 'traditional_iupac',\n",
       " 'update_date',\n",
       " 'version',\n",
       " 'vmh_id',\n",
       " 'wikipedia_id'}"
      ]
     },
     "execution_count": 11,
     "metadata": {},
     "output_type": "execute_result"
    }
   ],
   "execution_count": 11
  },
  {
   "metadata": {},
   "cell_type": "markdown",
   "source": "### Ontology tag and tag text",
   "id": "5b074af8d8037679"
  },
  {
   "metadata": {
    "ExecuteTime": {
     "end_time": "2025-05-21T23:34:35.166444Z",
     "start_time": "2025-05-21T23:34:35.163180Z"
    }
   },
   "cell_type": "code",
   "source": [
    "def strip_tag_namespace(tag: str) -> str:\n",
    "    idx = tag.rfind(\"}\")\n",
    "    return tag[idx + 1 :] if idx != -1 else tag"
   ],
   "id": "bc061c1566b5d504",
   "outputs": [],
   "execution_count": 12
  },
  {
   "metadata": {
    "ExecuteTime": {
     "end_time": "2025-05-21T23:34:35.646246Z",
     "start_time": "2025-05-21T23:34:35.643236Z"
    }
   },
   "cell_type": "code",
   "source": [
    "def recurse_print_tags(element, level=0):\n",
    "    indent = \"  \" * level\n",
    "    tag = strip_tag_namespace(element.tag)\n",
    "    text = element.text.strip() if element.text and element.text.strip() else \"\"\n",
    "    print(f\"{indent}{tag}: {text}\")\n",
    "    for child in element:\n",
    "        recurse_print_tags(child, level + 1)"
   ],
   "id": "e991fe75ef9f9db3",
   "outputs": [],
   "execution_count": 13
  },
  {
   "metadata": {
    "ExecuteTime": {
     "end_time": "2025-05-21T23:34:36.171452Z",
     "start_time": "2025-05-21T23:34:36.166542Z"
    }
   },
   "cell_type": "code",
   "source": [
    "def extract_children(xml_path, accession_id=None):\n",
    "    tree = ET.parse(xml_path)\n",
    "    rec_root = tree.getroot()\n",
    "    root_tag = strip_tag_namespace(rec_root.tag)\n",
    "\n",
    "    if root_tag == \"hmdb\":\n",
    "        metabolites = [elem for elem in rec_root if strip_tag_namespace(elem.tag) == \"metabolite\"]\n",
    "    elif root_tag == \"metabolite\":\n",
    "        metabolites = [rec_root]\n",
    "    else:\n",
    "        print(f\"Unknown root tag: {root_tag}\")\n",
    "        return\n",
    "\n",
    "    for metabolite in metabolites:\n",
    "        if accession_id:\n",
    "            acc = metabolite.xpath(\"*[local-name()='accession']\")\n",
    "            if not acc or acc[0].text != accession_id:\n",
    "                continue\n",
    "\n",
    "        ontology = metabolite.xpath(\"*[local-name()='ontology']\")\n",
    "        if ontology:\n",
    "            roots = ontology[0].xpath(\"*[local-name()='root']\")\n",
    "            print(f\"Found {len(roots)} root nodes in ontology.\")\n",
    "            for root_tag in roots:\n",
    "                term = root_tag.xpath(\"*[local-name()='term']\")\n",
    "                if term and term[0].text == \"Disposition\":\n",
    "                    print(\"=== Disposition Block ===\")\n",
    "                    recurse_print_tags(root_tag)\n",
    "                    return\n",
    "\n",
    "    print(\"Disposition not found.\")"
   ],
   "id": "6c6bb2dae59dbbe4",
   "outputs": [],
   "execution_count": 14
  },
  {
   "metadata": {
    "ExecuteTime": {
     "end_time": "2025-05-21T23:34:37.244574Z",
     "start_time": "2025-05-21T23:34:37.235392Z"
    }
   },
   "cell_type": "code",
   "source": [
    "hmdb0004327_exp = os.path.join(\"examples\", \"HMDB0004327.xml\")\n",
    "extract_children(hmdb0004327_exp, accession_id=\"HMDB0004327\")"
   ],
   "id": "ea4e1b799e4618ac",
   "outputs": [
    {
     "name": "stdout",
     "output_type": "stream",
     "text": [
      "Found 3 root nodes in ontology.\n",
      "=== Disposition Block ===\n",
      "root: \n",
      "  term: Disposition\n",
      "  definition: A concept that describes the origin of a chemical, its location within an organism, or its route of exposure.\n",
      "  parent_id: \n",
      "  level: 1\n",
      "  type: parent\n",
      "  descendants: \n",
      "    descendant: \n",
      "      term: Route of exposure\n",
      "      definition: A mean by which a chemical agent comes in contact with an organism, either under intended or unintended circumstances.\n",
      "      parent_id: 7724\n",
      "      level: 2\n",
      "      type: parent\n",
      "      synonyms: \n",
      "      descendants: \n",
      "        descendant: \n",
      "          term: Enteral\n",
      "          definition: Chemical exposure via the alimentary canal (mouth to anus).\n",
      "          parent_id: 7743\n",
      "          level: 3\n",
      "          type: parent\n",
      "          synonyms: \n",
      "          descendants: \n",
      "            descendant: \n",
      "              term: Ingestion\n",
      "              definition: Chemical exposure facilitated by entry through the mouth.\n",
      "              parent_id: 7744\n",
      "              level: 4\n",
      "              type: child\n",
      "              synonyms: \n",
      "                synonym: Digestion\n",
      "    descendant: \n",
      "      term: Source\n",
      "      definition: Natural or synthetic origin of a chemical.\n",
      "      parent_id: 7724\n",
      "      level: 2\n",
      "      type: parent\n",
      "      synonyms: \n",
      "      descendants: \n",
      "        descendant: \n",
      "          term: Endogenous\n",
      "          definition: \n",
      "          parent_id: 7735\n",
      "          level: 3\n",
      "          type: child\n",
      "          synonyms: \n",
      "        descendant: \n",
      "          term: Food\n",
      "          definition: \n",
      "          parent_id: 7735\n",
      "          level: 3\n",
      "          type: child\n",
      "          synonyms: \n",
      "        descendant: \n",
      "          term: Biological\n",
      "          definition: A living organism (species or a higher taxonomy rank), in which a chemical can be found.\n",
      "          parent_id: 7735\n",
      "          level: 3\n",
      "          type: parent\n",
      "          synonyms: \n",
      "          descendants: \n",
      "            descendant: \n",
      "              term: Animal\n",
      "              definition: A living organism belonging to the kingdom animalia. it feeds on organic matter, typically having specialized sense organs and nervous system and able to respond rapidly to stimuli.\n",
      "              parent_id: 7736\n",
      "              level: 4\n",
      "              type: child\n",
      "              synonyms: \n",
      "                synonym: Fauna\n",
      "            descendant: \n",
      "              term: Saccharomyces cerevisiae\n",
      "              definition: \n",
      "              parent_id: 7736\n",
      "              level: 4\n",
      "              type: child\n",
      "              synonyms: \n",
      "                synonym: Baker's yeast\n",
      "            descendant: \n",
      "              term: Microbe\n",
      "              definition: A living organism that is of a microscopic scale, either single-celled or a cluster of cells.\n",
      "              parent_id: 7736\n",
      "              level: 4\n",
      "              type: parent\n",
      "              synonyms: \n",
      "              descendants: \n",
      "                descendant: \n",
      "                  term: Thermoanaerobacterium\n",
      "                  definition: \n",
      "                  parent_id: 7739\n",
      "                  level: 5\n",
      "                  type: parent\n",
      "                  synonyms: \n",
      "                  descendants: \n",
      "                    descendant: \n",
      "                      term: Thermoanaerobacterium saccharolyticum\n",
      "                      definition: \n",
      "                      parent_id: 11389\n",
      "                      level: 6\n",
      "                      type: child\n",
      "                      synonyms: \n",
      "                descendant: \n",
      "                  term: Synechococcus\n",
      "                  definition: \n",
      "                  parent_id: 7739\n",
      "                  level: 5\n",
      "                  type: parent\n",
      "                  synonyms: \n",
      "                  descendants: \n",
      "                    descendant: \n",
      "                      term: Synechococcus elongatus\n",
      "                      definition: \n",
      "                      parent_id: 11387\n",
      "                      level: 6\n",
      "                      type: child\n",
      "                      synonyms: \n",
      "                descendant: \n",
      "                  term: Pseudomonas\n",
      "                  definition: \n",
      "                  parent_id: 7739\n",
      "                  level: 5\n",
      "                  type: parent\n",
      "                  synonyms: \n",
      "                  descendants: \n",
      "                    descendant: \n",
      "                      term: Pseudomonas putida\n",
      "                      definition: \n",
      "                      parent_id: 11365\n",
      "                      level: 6\n",
      "                      type: child\n",
      "                      synonyms: \n",
      "                descendant: \n",
      "                  term: Lactobacillus\n",
      "                  definition: \n",
      "                  parent_id: 7739\n",
      "                  level: 5\n",
      "                  type: parent\n",
      "                  synonyms: \n",
      "                  descendants: \n",
      "                    descendant: \n",
      "                      term: Lactobacillus brevis\n",
      "                      definition: \n",
      "                      parent_id: 11319\n",
      "                      level: 6\n",
      "                      type: child\n",
      "                      synonyms: \n",
      "                descendant: \n",
      "                  term: Escherichia\n",
      "                  definition: \n",
      "                  parent_id: 7739\n",
      "                  level: 5\n",
      "                  type: parent\n",
      "                  synonyms: \n",
      "                  descendants: \n",
      "                    descendant: \n",
      "                      term: Escherichia coli\n",
      "                      definition: \n",
      "                      parent_id: 11296\n",
      "                      level: 6\n",
      "                      type: child\n",
      "                      synonyms: \n",
      "                descendant: \n",
      "                  term: Bacillus\n",
      "                  definition: \n",
      "                  parent_id: 7739\n",
      "                  level: 5\n",
      "                  type: parent\n",
      "                  synonyms: \n",
      "                  descendants: \n",
      "                    descendant: \n",
      "                      term: Bacillus cereus\n",
      "                      definition: \n",
      "                      parent_id: 11263\n",
      "                      level: 6\n",
      "                      type: child\n",
      "                      synonyms: \n",
      "                    descendant: \n",
      "                      term: Bacillus subtilis\n",
      "                      definition: \n",
      "                      parent_id: 11263\n",
      "                      level: 6\n",
      "                      type: child\n",
      "                      synonyms: \n",
      "                descendant: \n",
      "                  term: Clostridium\n",
      "                  definition: \n",
      "                  parent_id: 7739\n",
      "                  level: 5\n",
      "                  type: parent\n",
      "                  synonyms: \n",
      "                  descendants: \n",
      "                    descendant: \n",
      "                      term: Clostridium acetobutylicum\n",
      "                      definition: \n",
      "                      parent_id: 11279\n",
      "                      level: 6\n",
      "                      type: child\n",
      "                      synonyms: \n",
      "                    descendant: \n",
      "                      term: Clostridium beijerinckii\n",
      "                      definition: \n",
      "                      parent_id: 11279\n",
      "                      level: 6\n",
      "                      type: child\n",
      "                      synonyms: \n",
      "                    descendant: \n",
      "                      term: Clostridium butylicum\n",
      "                      definition: \n",
      "                      parent_id: 11279\n",
      "                      level: 6\n",
      "                      type: child\n",
      "                      synonyms: \n",
      "                    descendant: \n",
      "                      term: Clostridium carboxidivorans\n",
      "                      definition: \n",
      "                      parent_id: 11279\n",
      "                      level: 6\n",
      "                      type: child\n",
      "                      synonyms: \n",
      "                    descendant: \n",
      "                      term: Clostridium cellulovorans\n",
      "                      definition: \n",
      "                      parent_id: 11279\n",
      "                      level: 6\n",
      "                      type: child\n",
      "                      synonyms: \n",
      "                    descendant: \n",
      "                      term: Clostridium pasteurianum\n",
      "                      definition: \n",
      "                      parent_id: 11279\n",
      "                      level: 6\n",
      "                      type: child\n",
      "                      synonyms: \n",
      "                    descendant: \n",
      "                      term: Clostridium tyrobutyricum\n",
      "                      definition: \n",
      "                      parent_id: 11279\n",
      "                      level: 6\n",
      "                      type: child\n",
      "                      synonyms: \n",
      "            descendant: \n",
      "              term: Plant\n",
      "              definition: A living organism belonging to the kingdom plantea. typically, it grows in a permanent site, absorbs water and inorganic substances through its roots, and synthesizes nutrients in its leaves by photosynthesis using the green pigment chlorophyll. examples incude trees, shrubs, herbs, grasses, ferns, and mosses.\n",
      "              parent_id: 7736\n",
      "              level: 4\n",
      "              type: parent\n",
      "              synonyms: \n",
      "                synonym: Flora\n",
      "              descendants: \n",
      "                descendant: \n",
      "                  term: Poaceae\n",
      "                  definition: \n",
      "                  parent_id: 7738\n",
      "                  level: 5\n",
      "                  type: child\n",
      "                  synonyms: \n",
      "                    synonym: Gramineae\n",
      "                descendant: \n",
      "                  term: Fabaceae\n",
      "                  definition: \n",
      "                  parent_id: 7738\n",
      "                  level: 5\n",
      "                  type: child\n",
      "                  synonyms: \n",
      "                    synonym: Papilionoideae\n",
      "                    synonym: Legume\n",
      "                descendant: \n",
      "                  term: Glycine max\n",
      "                  definition: \n",
      "                  parent_id: 7738\n",
      "                  level: 5\n",
      "                  type: child\n",
      "                  synonyms: \n",
      "                    synonym: Soy\n",
      "                    synonym: Soya\n",
      "                    synonym: Soybean\n",
      "                    synonym: Soya bean\n",
      "                descendant: \n",
      "                  term: Cucurbitaceae\n",
      "                  definition: \n",
      "                  parent_id: 7738\n",
      "                  level: 5\n",
      "                  type: child\n",
      "                  synonyms: \n",
      "                    synonym: Cucurbits\n",
      "                    synonym: Gourds\n",
      "                descendant: \n",
      "                  term: Theobroma cacao\n",
      "                  definition: \n",
      "                  parent_id: 7738\n",
      "                  level: 5\n",
      "                  type: child\n",
      "                  synonyms: \n",
      "    descendant: \n",
      "      term: Biological location\n",
      "      definition: The physiological origin within an organism, including anatomical compnents, biofluids and excreta.\n",
      "      parent_id: 7724\n",
      "      level: 2\n",
      "      type: parent\n",
      "      synonyms: \n",
      "      descendants: \n",
      "        descendant: \n",
      "          term: Cell and elements\n",
      "          definition: An anatomical organizational level comprising of a single cell (or a fragment in some exceptions). a cell is defined by its type or function. it is the smallest unit of living structure capable of independent existence, composed of a membrane-enclosed mass of protoplasm and containing a nucleus or nucleoid.\n",
      "          parent_id: 7725\n",
      "          level: 3\n",
      "          type: parent\n",
      "          synonyms: \n",
      "          descendants: \n",
      "            descendant: \n",
      "              term: Cell\n",
      "              definition: \n",
      "              parent_id: 7732\n",
      "              level: 4\n",
      "              type: parent\n",
      "              synonyms: \n",
      "              descendants: \n",
      "                descendant: \n",
      "                  term: Fibroblast\n",
      "                  definition: A cell in the connective tissue, that makes and secretes collagen proteins.\n",
      "                  parent_id: 7734\n",
      "                  level: 5\n",
      "                  type: child\n",
      "                  synonyms: \n",
      "        descendant: \n",
      "          term: Tissue and substructures\n",
      "          definition: An anatomical organizational level including multiple cells yet not comprising a complete organ .\n",
      "          parent_id: 7725\n",
      "          level: 3\n",
      "          type: parent\n",
      "          synonyms: \n",
      "          descendants: \n",
      "            descendant: \n",
      "              term: Epidermis\n",
      "              definition: The epithelial portion of the skin (cutis). it consists of the following layers: stratum corneum (horny layer), stratum granulosum (granular layer), stratum spinosum (prickle cell layer), and stratum basale (basal cell layer). (nci).\n",
      "              parent_id: 7729\n",
      "              level: 4\n",
      "              type: child\n",
      "              synonyms: \n",
      "        descendant: \n",
      "          term: Biofluid and excreta\n",
      "          definition: A liquid, semi-solid or solid material originating in the body.\n",
      "          parent_id: 7725\n",
      "          level: 3\n",
      "          type: parent\n",
      "          synonyms: \n",
      "          descendants: \n",
      "            descendant: \n",
      "              term: Feces\n",
      "              definition: The material discharged from the bowel during defecation. It consists of undigested food, intestinal mucus, epithelial cells, and bacteria.\n",
      "              parent_id: 7731\n",
      "              level: 4\n",
      "              type: child\n",
      "              synonyms: \n",
      "                synonym: Fecal\n",
      "                synonym: Stool\n",
      "                synonym: Faecal\n",
      "                synonym: Faeces\n",
      "            descendant: \n",
      "              term: Saliva\n",
      "              definition: The watery fluid in the mouth made by the salivary glands. saliva moistens food to help digestion and it helps protect the mouth against infections. (nci).\n",
      "              parent_id: 7731\n",
      "              level: 4\n",
      "              type: child\n",
      "              synonyms: \n",
      "            descendant: \n",
      "              term: Blood\n",
      "              definition: A liquid tissue with the primary function of transporting oxygen and carbon dioxide (nci). it supplies the tissues with nutrients, removes waste products, and contains various components of the immune system defending the body against infection.\n",
      "              parent_id: 7731\n",
      "              level: 4\n",
      "              type: child\n",
      "              synonyms: \n",
      "        descendant: \n",
      "          term: Organ and components\n",
      "          definition: An anatomical organizational level including multiple tissues or substructures, which enables a common biological function.\n",
      "          parent_id: 7725\n",
      "          level: 3\n",
      "          type: parent\n",
      "          synonyms: \n",
      "          descendants: \n",
      "            descendant: \n",
      "              term: Spleen\n",
      "              definition: An abdominal organ that is part of the hematopoietic and immune systems. it is composed of the white pulp and the red pulp and is surrounded by a capsule. (nci).\n",
      "              parent_id: 7727\n",
      "              level: 4\n",
      "              type: child\n",
      "              synonyms: \n",
      "            descendant: \n",
      "              term: Liver\n",
      "              definition: An abdominal organ that has variable lobation which are composed mainly of hepatic lobules. (nci).\n",
      "              parent_id: 7727\n",
      "              level: 4\n",
      "              type: child\n",
      "              synonyms: \n",
      "            descendant: \n",
      "              term: Kidney\n",
      "              definition: The organs of the urinary tract located in the retroperitoneal cavity adjacent to the spine and composed of the renal cortex and the renal medulla. (nci).\n",
      "              parent_id: 7727\n",
      "              level: 4\n",
      "              type: child\n",
      "              synonyms: \n",
      "                synonym: Kidneys\n",
      "            descendant: \n",
      "              term: Pancreas\n",
      "              definition: A digestive organ in the abdomen that has both endocrine and exocrine functions. (nci).\n",
      "              parent_id: 7727\n",
      "              level: 4\n",
      "              type: child\n",
      "              synonyms: \n"
     ]
    }
   ],
   "execution_count": 15
  },
  {
   "metadata": {},
   "cell_type": "markdown",
   "source": "## Protein HMDB xml",
   "id": "2e16b748def2aa8e"
  },
  {
   "metadata": {
    "ExecuteTime": {
     "end_time": "2025-07-02T18:20:04.920182Z",
     "start_time": "2025-07-02T18:20:04.903586Z"
    }
   },
   "cell_type": "code",
   "source": [
    "file_path = os.path.join(os.getcwd(), \"downloads\", \"hmdb_proteins.zip\")\n",
    "file_name = \"hmdb_proteins.xml\""
   ],
   "id": "fe0f09860579276b",
   "outputs": [],
   "execution_count": 7
  },
  {
   "metadata": {
    "ExecuteTime": {
     "end_time": "2025-07-02T18:20:05.511702Z",
     "start_time": "2025-07-02T18:20:05.504461Z"
    }
   },
   "cell_type": "code",
   "source": [
    "decomp_xml = os.path.join(\"downloads\", \"hmdb_proteins.xml\")\n",
    "if not os.path.exists(decomp_xml):\n",
    "    with zipfile.ZipFile(file_path, \"r\") as zip_f:\n",
    "        zip_f.extract(file_name, path=\"downloads\")"
   ],
   "id": "17322ede40e39592",
   "outputs": [],
   "execution_count": 8
  },
  {
   "metadata": {
    "ExecuteTime": {
     "end_time": "2025-07-02T18:20:06.259401Z",
     "start_time": "2025-07-02T18:20:06.256002Z"
    }
   },
   "cell_type": "code",
   "source": [
    "example_dir = os.path.join(os.getcwd(), \"examples\")\n",
    "os.makedirs(example_dir, exist_ok=True)\n",
    "\n",
    "xml_path = os.path.join(\"downloads\", \"hmdb_proteins.xml\")"
   ],
   "id": "d5bac95c7b8bfcc0",
   "outputs": [],
   "execution_count": 9
  },
  {
   "metadata": {},
   "cell_type": "code",
   "outputs": [],
   "execution_count": null,
   "source": [
    "target_accession = \"HMDBP00001\"\n",
    "output_path = os.path.join(example_dir, \"HMDBP00001.xml\")\n",
    "extract_record_by_accession(xml_path, target_accession, output_path, tag=\"{http://www.hmdb.ca}protein\")"
   ],
   "id": "a67a3da188440051"
  },
  {
   "metadata": {
    "ExecuteTime": {
     "end_time": "2025-07-02T18:22:37.995367Z",
     "start_time": "2025-07-02T18:22:34.491590Z"
    }
   },
   "cell_type": "code",
   "source": [
    "target_accession = \"HMDBP08448\"\n",
    "output_path = os.path.join(example_dir, \"HMDBP08448.xml\")\n",
    "extract_record_by_accession(xml_path, target_accession, output_path, tag=\"{http://www.hmdb.ca}protein\")"
   ],
   "id": "4bb7d9aa2e9beeda",
   "outputs": [
    {
     "name": "stdout",
     "output_type": "stream",
     "text": [
      "Saved: /Users/bailinzhang/Documents/Wu_Lab/Projects/HMDB_v5/examples/HMDBP08448.xml\n"
     ]
    }
   ],
   "execution_count": 11
  },
  {
   "metadata": {},
   "cell_type": "code",
   "outputs": [],
   "execution_count": null,
   "source": "",
   "id": "d8f7960581d4c3c9"
  }
 ],
 "metadata": {
  "kernelspec": {
   "display_name": "Python 3",
   "language": "python",
   "name": "python3"
  },
  "language_info": {
   "codemirror_mode": {
    "name": "ipython",
    "version": 2
   },
   "file_extension": ".py",
   "mimetype": "text/x-python",
   "name": "python",
   "nbconvert_exporter": "python",
   "pygments_lexer": "ipython2",
   "version": "2.7.6"
  }
 },
 "nbformat": 4,
 "nbformat_minor": 5
}
